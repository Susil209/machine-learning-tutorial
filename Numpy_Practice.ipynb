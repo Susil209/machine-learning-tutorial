{
  "nbformat": 4,
  "nbformat_minor": 0,
  "metadata": {
    "colab": {
      "provenance": [],
      "authorship_tag": "ABX9TyMu8eaiexIwDxoxizsCx8gM",
      "include_colab_link": true
    },
    "kernelspec": {
      "name": "python3",
      "display_name": "Python 3"
    },
    "language_info": {
      "name": "python"
    }
  },
  "cells": [
    {
      "cell_type": "markdown",
      "metadata": {
        "id": "view-in-github",
        "colab_type": "text"
      },
      "source": [
        "<a href=\"https://colab.research.google.com/github/Susil209/machine-learning-tutorial/blob/main/Numpy_Practice.ipynb\" target=\"_parent\"><img src=\"https://colab.research.google.com/assets/colab-badge.svg\" alt=\"Open In Colab\"/></a>"
      ]
    },
    {
      "cell_type": "code",
      "execution_count": 1,
      "metadata": {
        "colab": {
          "base_uri": "https://localhost:8080/"
        },
        "id": "QfFbHE67MH7u",
        "outputId": "43e66bf2-82bc-4a4d-e275-f239068ffacb"
      },
      "outputs": [
        {
          "output_type": "execute_result",
          "data": {
            "text/plain": [
              "array([1, 2, 3, 4, 6])"
            ]
          },
          "metadata": {},
          "execution_count": 1
        }
      ],
      "source": [
        "import numpy as np\n",
        "# initialize array 1d array\n",
        "arr1 = np.array([1,2,3,4,6])\n",
        "arr1\n"
      ]
    },
    {
      "cell_type": "code",
      "source": [
        "# accessing array elements\n",
        "print(arr1[0])\n",
        "\n",
        "arr1[0] = 10 #mutable\n",
        "print(arr1)"
      ],
      "metadata": {
        "colab": {
          "base_uri": "https://localhost:8080/"
        },
        "id": "03jSP1hMNTIv",
        "outputId": "066bf5f7-b660-4f43-892a-411e20966216"
      },
      "execution_count": 2,
      "outputs": [
        {
          "output_type": "stream",
          "name": "stdout",
          "text": [
            "1\n",
            "[10  2  3  4  6]\n"
          ]
        }
      ]
    },
    {
      "cell_type": "code",
      "source": [
        "# One major difference is that slice indexing of a list copies the elements into a new list,\n",
        "#  but slicing an array returns a view: an object that refers to the data in the original array.\n",
        "#  The original array can be mutated using the view.\n",
        "\n",
        "b = arr1[:4]\n",
        "print(b)\n",
        "\n",
        "b[3] = 30\n",
        "print(arr1) # change the original array"
      ],
      "metadata": {
        "colab": {
          "base_uri": "https://localhost:8080/"
        },
        "id": "aIbyDJzMNt5G",
        "outputId": "e12df1e5-a659-453d-f965-2c0ec8ea5bf0"
      },
      "execution_count": 3,
      "outputs": [
        {
          "output_type": "stream",
          "name": "stdout",
          "text": [
            "[10  2  3  4]\n",
            "[10  2  3 30  6]\n"
          ]
        }
      ]
    },
    {
      "cell_type": "code",
      "source": [
        "# 2d, 3d and nd array\n",
        "arr2d = np.array([[1,2,3,4],[5,6,7,8],[9,10,11,11]])\n",
        "arr2d\n",
        "\n",
        "# In NumPy, a dimension of an array is sometimes referred to as an “axis”.\n",
        "#  array a could represent three points, each lying within a four-dimensional space, but a has only two “axes”."
      ],
      "metadata": {
        "colab": {
          "base_uri": "https://localhost:8080/"
        },
        "id": "baRkPRqdOXSs",
        "outputId": "8c81fe05-cb86-407b-d2a7-5b48f3ac5117"
      },
      "execution_count": 4,
      "outputs": [
        {
          "output_type": "execute_result",
          "data": {
            "text/plain": [
              "array([[ 1,  2,  3,  4],\n",
              "       [ 5,  6,  7,  8],\n",
              "       [ 9, 10, 11, 11]])"
            ]
          },
          "metadata": {},
          "execution_count": 4
        }
      ]
    },
    {
      "cell_type": "code",
      "source": [
        "# element of the array can be accessed by specifying\n",
        "#  the index along each axis within a single set of square brackets, separated by commas.\n",
        "\n",
        "# row = 1, column = 2 ==> ele = 7\n",
        "print(arr2d[1, 2])\n",
        "\n",
        "# adding another row in arr2d\n",
        "new_row = np.array([20,30,40,50])\n",
        "arr2d = np.vstack((arr2d, new_row))\n",
        "print(arr2d)"
      ],
      "metadata": {
        "colab": {
          "base_uri": "https://localhost:8080/"
        },
        "id": "2YWn6fRSPQSV",
        "outputId": "57ddac3e-012b-48f6-f880-2d1a8ee2361c"
      },
      "execution_count": 5,
      "outputs": [
        {
          "output_type": "stream",
          "name": "stdout",
          "text": [
            "7\n",
            "[[ 1  2  3  4]\n",
            " [ 5  6  7  8]\n",
            " [ 9 10 11 11]\n",
            " [20 30 40 50]]\n"
          ]
        }
      ]
    },
    {
      "cell_type": "code",
      "source": [
        "# Array attributes\n",
        "print(arr2d.ndim)\n",
        "\n",
        "# create a 3d array\n",
        "arr3d = np.array([[[1,2,3,4],[5,6,7,8]],[[9,10,11,12],[13,14,15,16]]])\n",
        "print(arr3d)\n",
        "print(arr3d.ndim)\n"
      ],
      "metadata": {
        "colab": {
          "base_uri": "https://localhost:8080/"
        },
        "id": "NIqO5EP-QR8u",
        "outputId": "ed91ef9e-fe8b-4f37-9713-533a7aa7f029"
      },
      "execution_count": 6,
      "outputs": [
        {
          "output_type": "stream",
          "name": "stdout",
          "text": [
            "2\n",
            "[[[ 1  2  3  4]\n",
            "  [ 5  6  7  8]]\n",
            "\n",
            " [[ 9 10 11 12]\n",
            "  [13 14 15 16]]]\n",
            "3\n"
          ]
        }
      ]
    },
    {
      "cell_type": "code",
      "source": [
        "# shape\n",
        "print(arr2d.shape)\n",
        "print(arr3d.shape)\n",
        "\n",
        "#datatype\n",
        "print(arr2d.dtype)\n",
        "print(arr3d.dtype)\n",
        "\n",
        "# size\n",
        "print(arr2d.size)\n",
        "print(arr3d.size)"
      ],
      "metadata": {
        "colab": {
          "base_uri": "https://localhost:8080/"
        },
        "id": "Pybo1H-Oyb8k",
        "outputId": "6aaa5fc2-470c-4f95-9af8-9bdf2a8ec5ec"
      },
      "execution_count": 7,
      "outputs": [
        {
          "output_type": "stream",
          "name": "stdout",
          "text": [
            "(4, 4)\n",
            "(2, 2, 4)\n",
            "int64\n",
            "int64\n",
            "16\n",
            "16\n"
          ]
        }
      ]
    },
    {
      "cell_type": "code",
      "source": [],
      "metadata": {
        "id": "O1eP2XDC0G7Q"
      },
      "execution_count": 7,
      "outputs": []
    },
    {
      "cell_type": "code",
      "source": [
        "# create a basic array\n",
        "# np.zeros(), np.ones(), np.empty(), np.arange(), np.linspace()\n",
        "\n",
        "print(np.zeros(2))\n",
        "print(np.ones(2))\n",
        "\n",
        "# Create an empty array with 2 elements\n",
        "print(np.empty(2))\n",
        "\n",
        "print(np.arange(4))"
      ],
      "metadata": {
        "colab": {
          "base_uri": "https://localhost:8080/"
        },
        "id": "q3ZdLk2jzL9A",
        "outputId": "76bd8dc4-6714-4cf6-ef4d-fc8adec4677e"
      },
      "execution_count": 8,
      "outputs": [
        {
          "output_type": "stream",
          "name": "stdout",
          "text": [
            "[0. 0.]\n",
            "[1. 1.]\n",
            "[1. 1.]\n",
            "[0 1 2 3]\n"
          ]
        }
      ]
    },
    {
      "cell_type": "code",
      "source": [
        "zero_arr = np.zeros((2,3,4),dtype=int)\n",
        "print(zero_arr)"
      ],
      "metadata": {
        "colab": {
          "base_uri": "https://localhost:8080/"
        },
        "id": "-39IDCuPYpVv",
        "outputId": "ce96a278-5353-4919-89da-a30ae168b99e"
      },
      "execution_count": 9,
      "outputs": [
        {
          "output_type": "stream",
          "name": "stdout",
          "text": [
            "[[[0 0 0 0]\n",
            "  [0 0 0 0]\n",
            "  [0 0 0 0]]\n",
            "\n",
            " [[0 0 0 0]\n",
            "  [0 0 0 0]\n",
            "  [0 0 0 0]]]\n"
          ]
        }
      ]
    },
    {
      "cell_type": "code",
      "source": [
        "# array with range of elements\n",
        "print(np.arange(2,10,2)) # firstnum, lastnum, stepsize\n",
        "print(np.arange(2,30,5))\n",
        "\n",
        "# You can also use np.linspace() to create an array with values that are spaced\n",
        "# linearly in a specified interval:\n",
        "print(np.linspace(0,10,num=5))\n",
        "print(np.linspace(10,60,num=10,dtype=int))\n",
        "\n",
        "# While the default data type is floating point (np.float64),\n",
        "# you can explicitly specify which data type you want using the dtype keyword."
      ],
      "metadata": {
        "colab": {
          "base_uri": "https://localhost:8080/"
        },
        "id": "8idhX-1YZync",
        "outputId": "fb4d818f-75d0-4526-b6e1-2bfb978fd35a"
      },
      "execution_count": 10,
      "outputs": [
        {
          "output_type": "stream",
          "name": "stdout",
          "text": [
            "[2 4 6 8]\n",
            "[ 2  7 12 17 22 27]\n",
            "[ 0.   2.5  5.   7.5 10. ]\n",
            "[10 15 21 26 32 37 43 48 54 60]\n"
          ]
        }
      ]
    },
    {
      "cell_type": "code",
      "source": [
        "# slicing\n",
        "\n",
        "print(arr2d)\n",
        "print()\n",
        "\n",
        "print(arr2d[:,1]) # arr2d[row , col] = arr2d[[srow : erow), [scol : ecol)]\n",
        "print()\n",
        "\n",
        "print(arr2d[1:,2])\n",
        "print()\n",
        "\n",
        "print(arr2d[1:3,0:3]) # [start,end) = [row-1,col-0] to [row-2,col-2]"
      ],
      "metadata": {
        "id": "EMg8aFUPbCQG",
        "colab": {
          "base_uri": "https://localhost:8080/"
        },
        "outputId": "069b9bc3-f83a-472c-8849-f17ab11f265f"
      },
      "execution_count": 11,
      "outputs": [
        {
          "output_type": "stream",
          "name": "stdout",
          "text": [
            "[[ 1  2  3  4]\n",
            " [ 5  6  7  8]\n",
            " [ 9 10 11 11]\n",
            " [20 30 40 50]]\n",
            "\n",
            "[ 2  6 10 30]\n",
            "\n",
            "[ 7 11 40]\n",
            "\n",
            "[[ 5  6  7]\n",
            " [ 9 10 11]]\n"
          ]
        }
      ]
    },
    {
      "cell_type": "code",
      "source": [
        "# indexing\n",
        "a = arr2d\n",
        "print(a)\n",
        "print()\n",
        "\n",
        "print(a[a<5])\n",
        "print(a[a>5])\n",
        "print(a[a%2==0])\n",
        "print(a[(a>2) & (a<10)])\n"
      ],
      "metadata": {
        "colab": {
          "base_uri": "https://localhost:8080/"
        },
        "id": "5GE5w04xlvA-",
        "outputId": "8075f180-32c9-4a8a-9aec-118d434e0d7b"
      },
      "execution_count": 12,
      "outputs": [
        {
          "output_type": "stream",
          "name": "stdout",
          "text": [
            "[[ 1  2  3  4]\n",
            " [ 5  6  7  8]\n",
            " [ 9 10 11 11]\n",
            " [20 30 40 50]]\n",
            "\n",
            "[1 2 3 4]\n",
            "[ 6  7  8  9 10 11 11 20 30 40 50]\n",
            "[ 2  4  6  8 10 20 30 40 50]\n",
            "[3 4 5 6 7 8 9]\n"
          ]
        }
      ]
    },
    {
      "cell_type": "code",
      "source": [
        "# Math operation\n",
        "# This section covers addition, subtraction, multiplication, division, and more\n",
        "\n",
        "data = np.array([1,2,3,4])\n",
        "ones = np.ones(4,dtype=int)\n",
        "print(data + ones)\n",
        "\n",
        "print(data - ones)\n",
        "\n",
        "print(data * data)\n",
        "\n",
        "print(data / ones)"
      ],
      "metadata": {
        "colab": {
          "base_uri": "https://localhost:8080/"
        },
        "id": "qtD09Nrkm_pF",
        "outputId": "7426cdcb-354c-4662-87cb-b2bfee8fb472"
      },
      "execution_count": 13,
      "outputs": [
        {
          "output_type": "stream",
          "name": "stdout",
          "text": [
            "[2 3 4 5]\n",
            "[0 1 2 3]\n",
            "[ 1  4  9 16]\n",
            "[1. 2. 3. 4.]\n"
          ]
        }
      ]
    },
    {
      "cell_type": "code",
      "source": [
        "# sum and mean of array elements\n",
        "print(data.sum())\n",
        "print(data.mean())"
      ],
      "metadata": {
        "colab": {
          "base_uri": "https://localhost:8080/"
        },
        "id": "Yn6q6Y03uJNk",
        "outputId": "e3aa3d05-be4c-4a9e-b882-06952c3a980d"
      },
      "execution_count": 14,
      "outputs": [
        {
          "output_type": "stream",
          "name": "stdout",
          "text": [
            "10\n",
            "2.5\n"
          ]
        }
      ]
    },
    {
      "cell_type": "code",
      "source": [
        "# Eucledian distance between two points\n",
        "p1 = np.array([10,20,30])\n",
        "p2 = np.array([2,4,6])\n",
        "\n",
        "# sqrt((x2-x1)^2 + (y2-y1)^2 + (z2-z1)^2)\n",
        "euc_dist = np.sqrt(np.sum(np.square(p1-p2)))\n",
        "print(euc_dist)"
      ],
      "metadata": {
        "colab": {
          "base_uri": "https://localhost:8080/"
        },
        "id": "4bfubb_EuTeA",
        "outputId": "dc0b72c4-bd1d-4002-e09b-bd3636596e75"
      },
      "execution_count": 15,
      "outputs": [
        {
          "output_type": "stream",
          "name": "stdout",
          "text": [
            "29.93325909419153\n"
          ]
        }
      ]
    },
    {
      "cell_type": "code",
      "source": [
        "# Average distance among points\n",
        "pts = np.array([11,-22,33,44])\n",
        "\n",
        "# ans = sqrt([(11-16.5)^2 + (-22-16.5)^2 + ....])\n",
        "\n",
        "mean_pt = pts.mean()\n",
        "print(mean_pt)\n",
        "\n",
        "sum_of_square = np.sum(np.square(pts - mean_pt))\n",
        "ans = np.sqrt(sum_of_square)\n",
        "print(ans)"
      ],
      "metadata": {
        "colab": {
          "base_uri": "https://localhost:8080/"
        },
        "id": "e53ffIrwvQRW",
        "outputId": "bdc075ed-213a-49dc-ffe5-86a40db8f604"
      },
      "execution_count": 16,
      "outputs": [
        {
          "output_type": "stream",
          "name": "stdout",
          "text": [
            "16.5\n",
            "50.40833264451424\n"
          ]
        }
      ]
    },
    {
      "cell_type": "code",
      "source": [
        "# Adding, removing, and sorting elements\n",
        "arr = np.array([2, 1, 5, 3, 7, 4, 6, 8])\n",
        "sorted_arr = np.sort(arr)\n",
        "print(sorted_arr) # returns a sorted copy of an array\n",
        "print(arr)\n",
        "\n",
        "print()\n",
        "a = np.array([1, 2, 3, 4])\n",
        "b = np.array([5, 6, 7, 8])\n",
        "print(np.concatenate((a, b)))\n",
        "\n",
        "print()\n",
        "x = np.array([[1, 2], [3, 4]])\n",
        "y = np.array([[5, 6]])\n",
        "print(np.concatenate((x, y), axis=0))"
      ],
      "metadata": {
        "colab": {
          "base_uri": "https://localhost:8080/"
        },
        "id": "xhYpYkoE0Icn",
        "outputId": "595adb29-5dd9-4f3d-d22a-f23a019aedf0"
      },
      "execution_count": 17,
      "outputs": [
        {
          "output_type": "stream",
          "name": "stdout",
          "text": [
            "[1 2 3 4 5 6 7 8]\n",
            "[2 1 5 3 7 4 6 8]\n",
            "\n",
            "[1 2 3 4 5 6 7 8]\n",
            "\n",
            "[[1 2]\n",
            " [3 4]\n",
            " [5 6]]\n"
          ]
        }
      ]
    },
    {
      "cell_type": "code",
      "source": [
        "# How do you know the shape and size of an array?\n",
        "# ndarray.ndim will tell you the number of axes, or dimensions, of the array.\n",
        "\n",
        "# ndarray.size will tell you the total number of elements of the array.\n",
        "# This is the product of the elements of the array’s shape.\n",
        "\n",
        "# ndarray.shape will display a tuple of integers that indicate the number of\n",
        "# elements stored along each dimension of the array.\n",
        "#  If, for example, you have a 2-D array with 2 rows and 3 columns,\n",
        "# the shape of your array is (2, 3).\n",
        "\n",
        "array_example = np.array([[[0, 1, 2, 3],\n",
        "                           [4, 5, 6, 7]],\n",
        "                          [[0, 1, 2, 3],\n",
        "                           [4, 5, 6, 7]],\n",
        "                          [[0 ,1 ,2, 3],\n",
        "                           [4, 5, 6, 7]]])\n",
        "print(array_example)\n",
        "print(array_example.ndim)\n",
        "print(array_example.size)\n",
        "print(array_example.shape) # 3d , each dim has 2 rows and 3 cols"
      ],
      "metadata": {
        "colab": {
          "base_uri": "https://localhost:8080/"
        },
        "id": "EpBP9oEn6oqo",
        "outputId": "63586383-33a5-4f2f-f58c-07606c82e7bc"
      },
      "execution_count": 18,
      "outputs": [
        {
          "output_type": "stream",
          "name": "stdout",
          "text": [
            "[[[0 1 2 3]\n",
            "  [4 5 6 7]]\n",
            "\n",
            " [[0 1 2 3]\n",
            "  [4 5 6 7]]\n",
            "\n",
            " [[0 1 2 3]\n",
            "  [4 5 6 7]]]\n",
            "3\n",
            "24\n",
            "(3, 2, 4)\n"
          ]
        }
      ]
    },
    {
      "cell_type": "code",
      "source": [
        "# Using arr.reshape() will give a new shape to an array without changing\n",
        "#  the data. Just remember that when you use the reshape method,\n",
        "#   the array you want to produce needs\n",
        "#  to have the same number of elements as the original array.\n",
        "\n",
        "new_arr = np.arange(15)\n",
        "print(new_arr)\n",
        "\n",
        "reshaped_arr = new_arr.reshape(3,5)\n",
        "print(reshaped_arr)"
      ],
      "metadata": {
        "colab": {
          "base_uri": "https://localhost:8080/"
        },
        "id": "siCFzsiY76sW",
        "outputId": "12fc9d5c-ad31-4648-8151-14ba12accadc"
      },
      "execution_count": 19,
      "outputs": [
        {
          "output_type": "stream",
          "name": "stdout",
          "text": [
            "[ 0  1  2  3  4  5  6  7  8  9 10 11 12 13 14]\n",
            "[[ 0  1  2  3  4]\n",
            " [ 5  6  7  8  9]\n",
            " [10 11 12 13 14]]\n"
          ]
        }
      ]
    },
    {
      "cell_type": "code",
      "source": [
        "# How to convert a 1D array into a 2D array (how to add a new axis to an array)\n",
        "\n",
        "# Using np.newaxis will increase the dimensions of your array by one dimension\n",
        "#  when used once. This means that a 1D array will become a 2D array,\n",
        "#  a 2D array will become a 3D array, and so on.\n",
        "\n",
        "# You can explicitly convert a 1D array to either a row vector\n",
        "#  or a column vector using np.newaxis.\n",
        "\n",
        "print(new_arr)\n",
        "row_vector = new_arr[np.newaxis, : ]\n",
        "print(row_vector.shape)\n",
        "\n",
        "col_vector = new_arr[:, np.newaxis]\n",
        "print(col_vector.shape)\n",
        "print()\n",
        "# You can also expand an array by inserting a new axis\n",
        "#  at a specified position with np.expand_dims.\n",
        "\n",
        "print(np.expand_dims(new_arr, axis=1).shape)\n",
        "print(np.expand_dims(new_arr, axis=0).shape)"
      ],
      "metadata": {
        "colab": {
          "base_uri": "https://localhost:8080/"
        },
        "id": "EAxsEtQT8jye",
        "outputId": "236a6993-1f0f-4594-fd4b-899bf5c2ce30"
      },
      "execution_count": 20,
      "outputs": [
        {
          "output_type": "stream",
          "name": "stdout",
          "text": [
            "[ 0  1  2  3  4  5  6  7  8  9 10 11 12 13 14]\n",
            "(1, 15)\n",
            "(15, 1)\n",
            "\n",
            "(15, 1)\n",
            "(1, 15)\n"
          ]
        }
      ]
    },
    {
      "cell_type": "code",
      "source": [
        "# How to create an array from existing data\n",
        "\n",
        "a1 = np.array([[1, 1],\n",
        "               [2, 2]])\n",
        "\n",
        "a2 = np.array([[3, 3],\n",
        "               [4, 4]])\n",
        "\n",
        "print(np.vstack((a1,a2))) # vertical stack\n",
        "print(np.hstack((a1,a2))) # horizontal stack\n",
        "print()\n",
        "\n",
        "# hsplit\n",
        "x1 = np.arange(1, 25).reshape(2, 12)\n",
        "print(x1)\n",
        "print()\n",
        "\n",
        "# If you wanted to split this array into three equally shaped arrays\n",
        "print(np.hsplit(x1, 3))"
      ],
      "metadata": {
        "colab": {
          "base_uri": "https://localhost:8080/"
        },
        "id": "4OvJCjGH-Cm0",
        "outputId": "38142f94-74ce-4d3b-ef20-ccd469b6374f"
      },
      "execution_count": 21,
      "outputs": [
        {
          "output_type": "stream",
          "name": "stdout",
          "text": [
            "[[1 1]\n",
            " [2 2]\n",
            " [3 3]\n",
            " [4 4]]\n",
            "[[1 1 3 3]\n",
            " [2 2 4 4]]\n",
            "\n",
            "[[ 1  2  3  4  5  6  7  8  9 10 11 12]\n",
            " [13 14 15 16 17 18 19 20 21 22 23 24]]\n",
            "\n",
            "[array([[ 1,  2,  3,  4],\n",
            "       [13, 14, 15, 16]]), array([[ 5,  6,  7,  8],\n",
            "       [17, 18, 19, 20]]), array([[ 9, 10, 11, 12],\n",
            "       [21, 22, 23, 24]])]\n"
          ]
        }
      ]
    },
    {
      "cell_type": "code",
      "source": [
        "# Broadcasting\n",
        "\n",
        "# an operation between a vector and a scalar\n",
        "print(new_arr)\n",
        "print(new_arr * 5)\n",
        "\n",
        "# More useful array operations\n",
        "print(new_arr.max())\n",
        "print(new_arr.min())\n",
        "print(new_arr.sum())\n",
        "\n",
        "a2 = np.array([[0.45053314, 0.17296777, 0.34376245, 0.5510652],\n",
        "              [0.54627315, 0.05093587, 0.40067661, 0.55645993],\n",
        "              [0.12697628, 0.82485143, 0.26590556, 0.56917101]])\n",
        "\n",
        "print(a2.max(axis=0)) # see column wise\n",
        "print(a2.max(axis=1)) # see row wise"
      ],
      "metadata": {
        "colab": {
          "base_uri": "https://localhost:8080/"
        },
        "id": "67_w5pg4_7Vf",
        "outputId": "344e9197-0f97-43f4-c6d6-ad38ca8f0014"
      },
      "execution_count": 22,
      "outputs": [
        {
          "output_type": "stream",
          "name": "stdout",
          "text": [
            "[ 0  1  2  3  4  5  6  7  8  9 10 11 12 13 14]\n",
            "[ 0  5 10 15 20 25 30 35 40 45 50 55 60 65 70]\n",
            "14\n",
            "0\n",
            "105\n",
            "[0.54627315 0.82485143 0.40067661 0.56917101]\n",
            "[0.5510652  0.55645993 0.82485143]\n"
          ]
        }
      ]
    },
    {
      "cell_type": "code",
      "source": [
        "# Generate 5 random integers between 0 (inclusive) and 10 (exclusive)\n",
        "random_integers = np.random.randint(0, 10, size=5)\n",
        "\n",
        "# Print the generated array\n",
        "print(random_integers)\n",
        "\n",
        "# How to get unique items and counts\n",
        "unique_values, counts = np.unique(random_integers, return_counts=True)\n",
        "\n",
        "# Print the unique values and their counts\n",
        "print(\"Unique Values:\", unique_values)\n",
        "print(\"Counts:\", counts)"
      ],
      "metadata": {
        "colab": {
          "base_uri": "https://localhost:8080/"
        },
        "id": "HLPB-rotCaa1",
        "outputId": "16e76b7b-8d4c-4220-8015-5626bb36d688"
      },
      "execution_count": 24,
      "outputs": [
        {
          "output_type": "stream",
          "name": "stdout",
          "text": [
            "[0 1 9 9 2]\n",
            "Unique Values: [0 1 2 9]\n",
            "Counts: [1 1 1 2]\n"
          ]
        }
      ]
    },
    {
      "cell_type": "code",
      "source": [
        "# Transposing and reshaping a matrix\n",
        "data = np.array([1,2,3,4,5,6,7,8])\n",
        "print(data)\n",
        "\n",
        "reshaped_data = data.reshape(2,4)\n",
        "print(reshaped_data)\n",
        "print(reshaped_data.transpose())\n",
        "print()\n",
        "\n",
        "# How to reverse an array\n",
        "print(data[::-1])\n",
        "reversed_arr = np.flip(data)\n",
        "print(reversed_arr)\n",
        "print()\n",
        "# for 2d\n",
        "print(arr2d)\n",
        "print(np.flip(arr2d))\n",
        "print(np.flip(arr2d, axis=0))\n",
        "print(np.flip(arr2d, axis=1))"
      ],
      "metadata": {
        "colab": {
          "base_uri": "https://localhost:8080/"
        },
        "id": "lrqJb5tXHh4n",
        "outputId": "b1ecc5a1-8519-4139-b0f7-898167fd028b"
      },
      "execution_count": 37,
      "outputs": [
        {
          "output_type": "stream",
          "name": "stdout",
          "text": [
            "[1 2 3 4 5 6 7 8]\n",
            "[[1 2 3 4]\n",
            " [5 6 7 8]]\n",
            "[[1 5]\n",
            " [2 6]\n",
            " [3 7]\n",
            " [4 8]]\n",
            "\n",
            "[8 7 6 5 4 3 2 1]\n",
            "[8 7 6 5 4 3 2 1]\n",
            "\n",
            "[[ 1  2  3  4]\n",
            " [ 5  6  7  8]\n",
            " [ 9 10 11 11]\n",
            " [20 30 40 50]]\n",
            "[[50 40 30 20]\n",
            " [11 11 10  9]\n",
            " [ 8  7  6  5]\n",
            " [ 4  3  2  1]]\n",
            "[[20 30 40 50]\n",
            " [ 9 10 11 11]\n",
            " [ 5  6  7  8]\n",
            " [ 1  2  3  4]]\n",
            "[[ 4  3  2  1]\n",
            " [ 8  7  6  5]\n",
            " [11 11 10  9]\n",
            " [50 40 30 20]]\n"
          ]
        }
      ]
    },
    {
      "cell_type": "code",
      "source": [
        "# Reshaping and flattening multidimensional arrays\n",
        "x = np.array([[1 , 2, 3, 4], [5, 6, 7, 8], [9, 10, 11, 12]])\n",
        "flattened_arr = x.flatten()\n",
        "print(flattened_arr)\n",
        "\n",
        "# When you use flatten, changes to your new array won’t change the parent array.\n",
        "a1 = x.flatten()\n",
        "a1[2] = 100\n",
        "print(x)\n",
        "print()\n",
        "\n",
        "# But when you use ravel, the changes you make to the new array will\n",
        "# affect the parent array.\n",
        "a2 = x.ravel()\n",
        "a2[2] = 100\n",
        "print(x)\n"
      ],
      "metadata": {
        "colab": {
          "base_uri": "https://localhost:8080/"
        },
        "id": "K5QAWUyKI9zt",
        "outputId": "f20489e8-9dff-4363-a466-43721fb2eb00"
      },
      "execution_count": 39,
      "outputs": [
        {
          "output_type": "stream",
          "name": "stdout",
          "text": [
            "[ 1  2  3  4  5  6  7  8  9 10 11 12]\n",
            "[[ 1  2  3  4]\n",
            " [ 5  6  7  8]\n",
            " [ 9 10 11 12]]\n",
            "\n",
            "[[  1   2 100   4]\n",
            " [  5   6   7   8]\n",
            " [  9  10  11  12]]\n"
          ]
        }
      ]
    },
    {
      "cell_type": "code",
      "source": [
        "# Working with mathematical formulas\n",
        "\n",
        "# Mean square error (MSE) = 1/n * np.sum(np.square(prediction - error))\n",
        "pred = np.ones(3,dtype=int)\n",
        "error = np.array([1,2,3])\n",
        "mse = 1/3 * np.sum(np.square(pred - error))\n",
        "print(mse)"
      ],
      "metadata": {
        "colab": {
          "base_uri": "https://localhost:8080/"
        },
        "id": "_FdnCOeoJ2It",
        "outputId": "3a02c00d-bad5-49f9-8c6b-1f2c927a49ea"
      },
      "execution_count": 40,
      "outputs": [
        {
          "output_type": "stream",
          "name": "stdout",
          "text": [
            "1.6666666666666665\n"
          ]
        }
      ]
    },
    {
      "cell_type": "code",
      "source": [
        "# How to save and load NumPy objects\n",
        "a = np.array([1, 2, 3, 4, 5, 6])\n",
        "\n",
        "# Save the array to a file,\n",
        "# to store a single ndarray object, store it as a .npy file using np.save\n",
        "np.save('saved_array.npy', a)\n",
        "\n",
        "# t to store more than one ndarray object in a single file,\n",
        "#  save it as a .npz file using np.savez"
      ],
      "metadata": {
        "id": "4-BtbKBFK0y2"
      },
      "execution_count": 41,
      "outputs": []
    },
    {
      "cell_type": "code",
      "source": [
        "# You can use np.load() to reconstruct your array.\n",
        "b = np.load('saved_array.npy')\n",
        "print(b)\n",
        "\n",
        "# You can save a NumPy array as a plain text file like a\n",
        "# .csv or .txt file with np.savetxt."
      ],
      "metadata": {
        "colab": {
          "base_uri": "https://localhost:8080/"
        },
        "id": "JyU1VE81LRUG",
        "outputId": "df928a7c-f55c-4342-bfa2-55af9520ffe7"
      },
      "execution_count": 42,
      "outputs": [
        {
          "output_type": "stream",
          "name": "stdout",
          "text": [
            "[1 2 3 4 5 6]\n"
          ]
        }
      ]
    },
    {
      "cell_type": "code",
      "source": [
        "# Importing and exporting a CSV\n",
        "import pandas as pd\n",
        "\n",
        "a = np.array([[-2.58289208,  0.43014843, -1.24082018, 1.59572603],\n",
        "              [ 0.99027828, 1.17150989,  0.94125714, -0.14692469],\n",
        "              [ 0.76989341,  0.81299683, -0.95068423, 0.11769564],\n",
        "              [ 0.20484034,  0.34784527,  1.96979195, 0.51992837]])\n",
        "\n",
        "df = pd.DataFrame(a)\n",
        "print(df)"
      ],
      "metadata": {
        "colab": {
          "base_uri": "https://localhost:8080/"
        },
        "id": "cyOLB8usLngQ",
        "outputId": "a7a2ffcb-4cba-44a9-a509-3b663113d34b"
      },
      "execution_count": 43,
      "outputs": [
        {
          "output_type": "stream",
          "name": "stdout",
          "text": [
            "          0         1         2         3\n",
            "0 -2.582892  0.430148 -1.240820  1.595726\n",
            "1  0.990278  1.171510  0.941257 -0.146925\n",
            "2  0.769893  0.812997 -0.950684  0.117696\n",
            "3  0.204840  0.347845  1.969792  0.519928\n"
          ]
        }
      ]
    },
    {
      "cell_type": "code",
      "source": [
        "# You can easily save your dataframe with:\n",
        "df.to_csv('pd.csv')"
      ],
      "metadata": {
        "id": "6aiTtdnCL5JW"
      },
      "execution_count": 44,
      "outputs": []
    },
    {
      "cell_type": "code",
      "source": [
        "# And read your CSV with:\n",
        "data = pd.read_csv('pd.csv')\n",
        "print(data)"
      ],
      "metadata": {
        "colab": {
          "base_uri": "https://localhost:8080/"
        },
        "id": "ckpJ5f1tMDq2",
        "outputId": "38858eb6-8f3c-41c7-e921-d79eade9b90e"
      },
      "execution_count": 46,
      "outputs": [
        {
          "output_type": "stream",
          "name": "stdout",
          "text": [
            "   Unnamed: 0         0         1         2         3\n",
            "0           0 -2.582892  0.430148 -1.240820  1.595726\n",
            "1           1  0.990278  1.171510  0.941257 -0.146925\n",
            "2           2  0.769893  0.812997 -0.950684  0.117696\n",
            "3           3  0.204840  0.347845  1.969792  0.519928\n"
          ]
        }
      ]
    },
    {
      "cell_type": "code",
      "source": [
        "# Plotting arrays with Matplotlib\n",
        "a = np.array([2, 1, 5, 7, 4, 6, 8, 14, 10, 9, 18, 20, 22])\n",
        "import matplotlib.pyplot as plt\n",
        "\n",
        "plt.plot(a)\n"
      ],
      "metadata": {
        "colab": {
          "base_uri": "https://localhost:8080/",
          "height": 447
        },
        "id": "eVGDWVUQMLS3",
        "outputId": "e2ff1d8e-889f-4b06-9d5c-a7d80e909738"
      },
      "execution_count": 47,
      "outputs": [
        {
          "output_type": "execute_result",
          "data": {
            "text/plain": [
              "[<matplotlib.lines.Line2D at 0x7fb7673c9510>]"
            ]
          },
          "metadata": {},
          "execution_count": 47
        },
        {
          "output_type": "display_data",
          "data": {
            "text/plain": [
              "<Figure size 640x480 with 1 Axes>"
            ],
            "image/png": "[encoded data removed]"
          },
          "metadata": {}
        }
      ]
    },
    {
      "cell_type": "code",
      "source": [
        "#  you can plot a 1D array like this:\n",
        "x = np.linspace(0, 5, 20)\n",
        "y = np.linspace(0, 10, 20)\n",
        "plt.plot(x, y, 'purple') # line\n",
        "plt.plot(x, y, 'o')      # dots"
      ],
      "metadata": {
        "colab": {
          "base_uri": "https://localhost:8080/",
          "height": 447
        },
        "id": "JMp2nTHLMZ0W",
        "outputId": "92c8e3e9-d585-4b5d-a59e-47318442189a"
      },
      "execution_count": 48,
      "outputs": [
        {
          "output_type": "execute_result",
          "data": {
            "text/plain": [
              "[<matplotlib.lines.Line2D at 0x7fb767343410>]"
            ]
          },
          "metadata": {},
          "execution_count": 48
        },
        {
          "output_type": "display_data",
          "data": {
            "text/plain": [
              "<Figure size 640x480 with 1 Axes>"
            ],
            "image/png": "[encoded data removed]"
          },
          "metadata": {}
        }
      ]
    }
  ]
}